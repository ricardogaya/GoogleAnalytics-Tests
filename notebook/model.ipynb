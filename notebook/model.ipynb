{
 "cells": [
  {
   "cell_type": "code",
   "execution_count": 2,
   "metadata": {},
   "outputs": [
    {
     "data": {
      "text/html": [
       "<div>\n",
       "<style scoped>\n",
       "    .dataframe tbody tr th:only-of-type {\n",
       "        vertical-align: middle;\n",
       "    }\n",
       "\n",
       "    .dataframe tbody tr th {\n",
       "        vertical-align: top;\n",
       "    }\n",
       "\n",
       "    .dataframe thead th {\n",
       "        text-align: right;\n",
       "    }\n",
       "</style>\n",
       "<table border=\"1\" class=\"dataframe\">\n",
       "  <thead>\n",
       "    <tr style=\"text-align: right;\">\n",
       "      <th></th>\n",
       "      <th>channelGrouping</th>\n",
       "      <th>date</th>\n",
       "      <th>device.browser</th>\n",
       "      <th>device.deviceCategory</th>\n",
       "      <th>device.isMobile</th>\n",
       "      <th>device.operatingSystem</th>\n",
       "      <th>fullVisitorId</th>\n",
       "      <th>geoNetwork.city</th>\n",
       "      <th>geoNetwork.continent</th>\n",
       "      <th>geoNetwork.country</th>\n",
       "      <th>...</th>\n",
       "      <th>trafficSource.campaign</th>\n",
       "      <th>trafficSource.isTrueDirect</th>\n",
       "      <th>trafficSource.keyword</th>\n",
       "      <th>trafficSource.medium</th>\n",
       "      <th>trafficSource.referralPath</th>\n",
       "      <th>trafficSource.source</th>\n",
       "      <th>visitId</th>\n",
       "      <th>visitNumber</th>\n",
       "      <th>visitStartTime</th>\n",
       "      <th>is_train</th>\n",
       "    </tr>\n",
       "  </thead>\n",
       "  <tbody>\n",
       "    <tr>\n",
       "      <th>0</th>\n",
       "      <td>4</td>\n",
       "      <td>2016-09-02</td>\n",
       "      <td>35</td>\n",
       "      <td>0</td>\n",
       "      <td>False</td>\n",
       "      <td>20</td>\n",
       "      <td>1131660440785968503</td>\n",
       "      <td>378</td>\n",
       "      <td>3</td>\n",
       "      <td>210</td>\n",
       "      <td>...</td>\n",
       "      <td>4</td>\n",
       "      <td>1</td>\n",
       "      <td>11</td>\n",
       "      <td>5</td>\n",
       "      <td>3196</td>\n",
       "      <td>208</td>\n",
       "      <td>1472830385</td>\n",
       "      <td>1.0</td>\n",
       "      <td>1.472830e+09</td>\n",
       "      <td>1</td>\n",
       "    </tr>\n",
       "    <tr>\n",
       "      <th>1</th>\n",
       "      <td>4</td>\n",
       "      <td>2016-09-02</td>\n",
       "      <td>43</td>\n",
       "      <td>0</td>\n",
       "      <td>False</td>\n",
       "      <td>7</td>\n",
       "      <td>377306020877927890</td>\n",
       "      <td>955</td>\n",
       "      <td>5</td>\n",
       "      <td>12</td>\n",
       "      <td>...</td>\n",
       "      <td>4</td>\n",
       "      <td>1</td>\n",
       "      <td>11</td>\n",
       "      <td>5</td>\n",
       "      <td>3196</td>\n",
       "      <td>208</td>\n",
       "      <td>1472880147</td>\n",
       "      <td>1.0</td>\n",
       "      <td>1.472880e+09</td>\n",
       "      <td>1</td>\n",
       "    </tr>\n",
       "    <tr>\n",
       "      <th>2</th>\n",
       "      <td>4</td>\n",
       "      <td>2016-09-02</td>\n",
       "      <td>35</td>\n",
       "      <td>0</td>\n",
       "      <td>False</td>\n",
       "      <td>20</td>\n",
       "      <td>3895546263509774583</td>\n",
       "      <td>475</td>\n",
       "      <td>4</td>\n",
       "      <td>185</td>\n",
       "      <td>...</td>\n",
       "      <td>4</td>\n",
       "      <td>1</td>\n",
       "      <td>11</td>\n",
       "      <td>5</td>\n",
       "      <td>3196</td>\n",
       "      <td>208</td>\n",
       "      <td>1472865386</td>\n",
       "      <td>1.0</td>\n",
       "      <td>1.472865e+09</td>\n",
       "      <td>1</td>\n",
       "    </tr>\n",
       "    <tr>\n",
       "      <th>3</th>\n",
       "      <td>4</td>\n",
       "      <td>2016-09-02</td>\n",
       "      <td>79</td>\n",
       "      <td>0</td>\n",
       "      <td>False</td>\n",
       "      <td>6</td>\n",
       "      <td>4763447161404445595</td>\n",
       "      <td>955</td>\n",
       "      <td>3</td>\n",
       "      <td>94</td>\n",
       "      <td>...</td>\n",
       "      <td>4</td>\n",
       "      <td>1</td>\n",
       "      <td>1607</td>\n",
       "      <td>5</td>\n",
       "      <td>3196</td>\n",
       "      <td>208</td>\n",
       "      <td>1472881213</td>\n",
       "      <td>1.0</td>\n",
       "      <td>1.472881e+09</td>\n",
       "      <td>1</td>\n",
       "    </tr>\n",
       "    <tr>\n",
       "      <th>4</th>\n",
       "      <td>4</td>\n",
       "      <td>2016-09-02</td>\n",
       "      <td>35</td>\n",
       "      <td>1</td>\n",
       "      <td>True</td>\n",
       "      <td>1</td>\n",
       "      <td>27294437909732085</td>\n",
       "      <td>955</td>\n",
       "      <td>4</td>\n",
       "      <td>217</td>\n",
       "      <td>...</td>\n",
       "      <td>4</td>\n",
       "      <td>0</td>\n",
       "      <td>11</td>\n",
       "      <td>5</td>\n",
       "      <td>3196</td>\n",
       "      <td>208</td>\n",
       "      <td>1472822600</td>\n",
       "      <td>2.0</td>\n",
       "      <td>1.472823e+09</td>\n",
       "      <td>1</td>\n",
       "    </tr>\n",
       "  </tbody>\n",
       "</table>\n",
       "<p>5 rows × 35 columns</p>\n",
       "</div>"
      ],
      "text/plain": [
       "   channelGrouping       date  device.browser  device.deviceCategory  \\\n",
       "0                4 2016-09-02              35                      0   \n",
       "1                4 2016-09-02              43                      0   \n",
       "2                4 2016-09-02              35                      0   \n",
       "3                4 2016-09-02              79                      0   \n",
       "4                4 2016-09-02              35                      1   \n",
       "\n",
       "   device.isMobile  device.operatingSystem        fullVisitorId  \\\n",
       "0            False                      20  1131660440785968503   \n",
       "1            False                       7   377306020877927890   \n",
       "2            False                      20  3895546263509774583   \n",
       "3            False                       6  4763447161404445595   \n",
       "4             True                       1    27294437909732085   \n",
       "\n",
       "   geoNetwork.city  geoNetwork.continent  geoNetwork.country    ...     \\\n",
       "0              378                     3                 210    ...      \n",
       "1              955                     5                  12    ...      \n",
       "2              475                     4                 185    ...      \n",
       "3              955                     3                  94    ...      \n",
       "4              955                     4                 217    ...      \n",
       "\n",
       "   trafficSource.campaign  trafficSource.isTrueDirect  trafficSource.keyword  \\\n",
       "0                       4                           1                     11   \n",
       "1                       4                           1                     11   \n",
       "2                       4                           1                     11   \n",
       "3                       4                           1                   1607   \n",
       "4                       4                           0                     11   \n",
       "\n",
       "   trafficSource.medium  trafficSource.referralPath  trafficSource.source  \\\n",
       "0                     5                        3196                   208   \n",
       "1                     5                        3196                   208   \n",
       "2                     5                        3196                   208   \n",
       "3                     5                        3196                   208   \n",
       "4                     5                        3196                   208   \n",
       "\n",
       "      visitId  visitNumber  visitStartTime  is_train  \n",
       "0  1472830385          1.0    1.472830e+09         1  \n",
       "1  1472880147          1.0    1.472880e+09         1  \n",
       "2  1472865386          1.0    1.472865e+09         1  \n",
       "3  1472881213          1.0    1.472881e+09         1  \n",
       "4  1472822600          2.0    1.472823e+09         1  \n",
       "\n",
       "[5 rows x 35 columns]"
      ]
     },
     "execution_count": 2,
     "metadata": {},
     "output_type": "execute_result"
    }
   ],
   "source": [
    "import pandas as pd\n",
    "import numpy as np\n",
    "import os\n",
    "from datetime import datetime\n",
    "from sklearn import preprocessing\n",
    "import lightgbm as lgb\n",
    "from bayes_opt import BayesianOptimization\n",
    "\n",
    "os.chdir('..')\n",
    "\n",
    "all_df = pd.read_pickle('data/all_df.pkl')\n",
    "all_df.head()"
   ]
  },
  {
   "cell_type": "code",
   "execution_count": 3,
   "metadata": {},
   "outputs": [],
   "source": [
    "# Categorical features\n",
    "cat_cols = [\"channelGrouping\", \"device.browser\", \n",
    "            \"device.deviceCategory\", \"device.operatingSystem\", \n",
    "            \"geoNetwork.city\", \"geoNetwork.continent\", \n",
    "            \"geoNetwork.country\", \"geoNetwork.metro\",\n",
    "            \"geoNetwork.networkDomain\", \"geoNetwork.region\", \n",
    "            \"geoNetwork.subContinent\", \"trafficSource.adContent\", \n",
    "            \"trafficSource.adwordsClickInfo.adNetworkType\", \n",
    "            \"trafficSource.adwordsClickInfo.gclId\", \n",
    "            \"trafficSource.adwordsClickInfo.page\", \n",
    "            \"trafficSource.adwordsClickInfo.slot\", \"trafficSource.campaign\",\n",
    "            \"trafficSource.keyword\", \"trafficSource.medium\", \n",
    "            \"trafficSource.referralPath\", \"trafficSource.source\",\n",
    "            'trafficSource.adwordsClickInfo.isVideoAd', 'trafficSource.isTrueDirect']\n",
    "\n",
    "# Numerical features\n",
    "num_cols = [\"totals.hits\", \"totals.pageviews\", \"visitNumber\", \"visitStartTime\", 'totals.bounces',  'totals.newVisits']    \n"
   ]
  },
  {
   "cell_type": "code",
   "execution_count": 25,
   "metadata": {},
   "outputs": [],
   "source": [
    "train_df = all_df[all_df['is_train'] == 1]\n",
    "test_df = all_df[all_df['is_train'] == 0]\n",
    "\n",
    "train_y = np.log1p(train_df[\"totals.transactionRevenue\"].values)\n",
    "train_id = train_df[\"fullVisitorId\"].values\n",
    "test_id = test_df[\"fullVisitorId\"].values\n",
    "\n",
    "# Split the train dataset into development and valid based on time \n",
    "training_df = train_df[train_df['date'] <= datetime(2017,5,31)]\n",
    "val_df = train_df[train_df['date'] > datetime(2017,5,31)]\n",
    "training_y = np.log1p(training_df[\"totals.transactionRevenue\"].values)\n",
    "val_y = np.log1p(val_df[\"totals.transactionRevenue\"].values)\n",
    "\n",
    "training_X = training_df[cat_cols + num_cols] \n",
    "val_X = val_df[cat_cols + num_cols] \n",
    "test_X = test_df[cat_cols + num_cols] "
   ]
  },
  {
   "cell_type": "code",
   "execution_count": 31,
   "metadata": {
    "scrolled": true
   },
   "outputs": [
    {
     "name": "stdout",
     "output_type": "stream",
     "text": [
      "\u001b[31mInitialization\u001b[0m\n",
      "\u001b[94m------------------------------------------------------------------\u001b[0m\n",
      " Step |   Time |      Value |   min_child_samples |   num_leaves | \n"
     ]
    },
    {
     "name": "stderr",
     "output_type": "stream",
     "text": [
      "C:\\Users\\LITO7\\AppData\\Local\\Continuum\\anaconda3\\lib\\site-packages\\lightgbm\\basic.py:1040: UserWarning: Using categorical_feature in Dataset.\n",
      "  warnings.warn('Using categorical_feature in Dataset.')\n",
      "C:\\Users\\LITO7\\AppData\\Local\\Continuum\\anaconda3\\lib\\site-packages\\lightgbm\\basic.py:1042: UserWarning: categorical_feature in Dataset is overridden. New categorical_feature is ['channelGrouping', 'device.browser', 'device.deviceCategory', 'device.operatingSystem', 'geoNetwork.city', 'geoNetwork.continent', 'geoNetwork.country', 'geoNetwork.metro', 'geoNetwork.networkDomain', 'geoNetwork.region', 'geoNetwork.subContinent', 'trafficSource.adContent', 'trafficSource.adwordsClickInfo.adNetworkType', 'trafficSource.adwordsClickInfo.gclId', 'trafficSource.adwordsClickInfo.isVideoAd', 'trafficSource.adwordsClickInfo.page', 'trafficSource.adwordsClickInfo.slot', 'trafficSource.campaign', 'trafficSource.isTrueDirect', 'trafficSource.keyword', 'trafficSource.medium', 'trafficSource.referralPath', 'trafficSource.source']\n",
      "  warnings.warn('categorical_feature in Dataset is overridden. New categorical_feature is {}'.format(sorted(list(categorical_feature))))\n",
      "C:\\Users\\LITO7\\AppData\\Local\\Continuum\\anaconda3\\lib\\site-packages\\lightgbm\\basic.py:685: UserWarning: categorical_feature in param dict is overridden.\n",
      "  warnings.warn('categorical_feature in param dict is overridden.')\n"
     ]
    },
    {
     "name": "stdout",
     "output_type": "stream",
     "text": [
      "Training until validation scores don't improve for 100 rounds.\n",
      "[100]\ttrain's rmse: 1.65521\tvalid's rmse: 1.77379\n",
      "[200]\ttrain's rmse: 1.56953\tvalid's rmse: 1.70531\n",
      "[300]\ttrain's rmse: 1.52935\tvalid's rmse: 1.69233\n",
      "[400]\ttrain's rmse: 1.50127\tvalid's rmse: 1.68982\n",
      "[500]\ttrain's rmse: 1.47978\tvalid's rmse: 1.68988\n",
      "Early stopping, best iteration is:\n",
      "[452]\ttrain's rmse: 1.48936\tvalid's rmse: 1.68963\n",
      "    1 | 00m11s | \u001b[35m  -1.68963\u001b[0m | \u001b[32m            32.6488\u001b[0m | \u001b[32m     92.9288\u001b[0m | \n",
      "Training until validation scores don't improve for 100 rounds.\n",
      "[100]\ttrain's rmse: 1.65089\tvalid's rmse: 1.77163\n",
      "[200]\ttrain's rmse: 1.5628\tvalid's rmse: 1.70398\n",
      "[300]\ttrain's rmse: 1.51996\tvalid's rmse: 1.69229\n",
      "[400]\ttrain's rmse: 1.48987\tvalid's rmse: 1.6911\n",
      "[500]\ttrain's rmse: 1.4672\tvalid's rmse: 1.69136\n",
      "Early stopping, best iteration is:\n",
      "[439]\ttrain's rmse: 1.48029\tvalid's rmse: 1.6908\n",
      "    2 | 00m11s |   -1.69080 |             22.4418 |     102.9114 | \n",
      "Training until validation scores don't improve for 100 rounds.\n",
      "[100]\ttrain's rmse: 1.65376\tvalid's rmse: 1.7729\n",
      "[200]\ttrain's rmse: 1.56802\tvalid's rmse: 1.705\n",
      "[300]\ttrain's rmse: 1.52771\tvalid's rmse: 1.69217\n",
      "[400]\ttrain's rmse: 1.49942\tvalid's rmse: 1.69015\n",
      "[500]\ttrain's rmse: 1.47836\tvalid's rmse: 1.69042\n",
      "Early stopping, best iteration is:\n",
      "[447]\ttrain's rmse: 1.48857\tvalid's rmse: 1.68989\n",
      "    3 | 00m12s |   -1.68989 |             44.6969 |      96.1658 | \n",
      "Training until validation scores don't improve for 100 rounds.\n",
      "[100]\ttrain's rmse: 1.65532\tvalid's rmse: 1.77392\n",
      "[200]\ttrain's rmse: 1.5706\tvalid's rmse: 1.70538\n",
      "[300]\ttrain's rmse: 1.53097\tvalid's rmse: 1.69258\n",
      "[400]\ttrain's rmse: 1.50372\tvalid's rmse: 1.69059\n",
      "[500]\ttrain's rmse: 1.48313\tvalid's rmse: 1.69112\n",
      "Early stopping, best iteration is:\n",
      "[414]\ttrain's rmse: 1.50038\tvalid's rmse: 1.69047\n",
      "    4 | 00m11s |   -1.69047 |             48.2195 |      92.6930 | \n",
      "Training until validation scores don't improve for 100 rounds.\n",
      "[100]\ttrain's rmse: 1.65781\tvalid's rmse: 1.77413\n",
      "[200]\ttrain's rmse: 1.57305\tvalid's rmse: 1.70487\n",
      "[300]\ttrain's rmse: 1.53308\tvalid's rmse: 1.69161\n",
      "[400]\ttrain's rmse: 1.50539\tvalid's rmse: 1.68883\n",
      "[500]\ttrain's rmse: 1.48417\tvalid's rmse: 1.68895\n",
      "Early stopping, best iteration is:\n",
      "[420]\ttrain's rmse: 1.50058\tvalid's rmse: 1.68852\n",
      "    5 | 00m10s | \u001b[35m  -1.68852\u001b[0m | \u001b[32m            19.7886\u001b[0m | \u001b[32m     85.4193\u001b[0m | \n"
     ]
    },
    {
     "name": "stderr",
     "output_type": "stream",
     "text": [
      "C:\\Users\\LITO7\\AppData\\Local\\Continuum\\anaconda3\\lib\\site-packages\\sklearn\\gaussian_process\\gpr.py:457: UserWarning: fmin_l_bfgs_b terminated abnormally with the  state: {'grad': array([-1.59275969e-05]), 'task': b'ABNORMAL_TERMINATION_IN_LNSRCH', 'funcalls': 50, 'nit': 5, 'warnflag': 2}\n",
      "  \" state: %s\" % convergence_dict)\n",
      "C:\\Users\\LITO7\\AppData\\Local\\Continuum\\anaconda3\\lib\\site-packages\\sklearn\\gaussian_process\\gpr.py:457: UserWarning: fmin_l_bfgs_b terminated abnormally with the  state: {'grad': array([-7.35948524e-05]), 'task': b'ABNORMAL_TERMINATION_IN_LNSRCH', 'funcalls': 49, 'nit': 5, 'warnflag': 2}\n",
      "  \" state: %s\" % convergence_dict)\n",
      "C:\\Users\\LITO7\\AppData\\Local\\Continuum\\anaconda3\\lib\\site-packages\\sklearn\\gaussian_process\\gpr.py:335: UserWarning: Predicted variances smaller than 0. Setting those variances to 0.\n",
      "  warnings.warn(\"Predicted variances smaller than 0. \"\n"
     ]
    },
    {
     "name": "stdout",
     "output_type": "stream",
     "text": [
      "\u001b[31mBayesian Optimization\u001b[0m\n",
      "\u001b[94m------------------------------------------------------------------\u001b[0m\n",
      " Step |   Time |      Value |   min_child_samples |   num_leaves | \n",
      "Training until validation scores don't improve for 100 rounds.\n",
      "[100]\ttrain's rmse: 1.66978\tvalid's rmse: 1.77969\n",
      "[200]\ttrain's rmse: 1.59065\tvalid's rmse: 1.70805\n",
      "[300]\ttrain's rmse: 1.555\tvalid's rmse: 1.69216\n",
      "[400]\ttrain's rmse: 1.53131\tvalid's rmse: 1.68818\n",
      "[500]\ttrain's rmse: 1.51385\tvalid's rmse: 1.68744\n",
      "[600]\ttrain's rmse: 1.50204\tvalid's rmse: 1.68775\n",
      "Early stopping, best iteration is:\n",
      "[546]\ttrain's rmse: 1.50762\tvalid's rmse: 1.68722\n",
      "    6 | 00m15s | \u001b[35m  -1.68722\u001b[0m | \u001b[32m             1.0865\u001b[0m | \u001b[32m     60.0055\u001b[0m | \n",
      "Training until validation scores don't improve for 100 rounds.\n",
      "[100]\ttrain's rmse: 1.64596\tvalid's rmse: 1.77092\n",
      "[200]\ttrain's rmse: 1.55579\tvalid's rmse: 1.70547\n",
      "[300]\ttrain's rmse: 1.51313\tvalid's rmse: 1.69453\n",
      "[400]\ttrain's rmse: 1.48244\tvalid's rmse: 1.69255\n",
      "Early stopping, best iteration is:\n",
      "[396]\ttrain's rmse: 1.48357\tvalid's rmse: 1.69249\n",
      "    7 | 00m15s |   -1.69249 |             49.8272 |     119.9325 | \n",
      "Training until validation scores don't improve for 100 rounds.\n",
      "[100]\ttrain's rmse: 1.65993\tvalid's rmse: 1.7748\n",
      "[200]\ttrain's rmse: 1.57566\tvalid's rmse: 1.70559\n",
      "[300]\ttrain's rmse: 1.53521\tvalid's rmse: 1.69161\n",
      "[400]\ttrain's rmse: 1.50773\tvalid's rmse: 1.68822\n",
      "[500]\ttrain's rmse: 1.48694\tvalid's rmse: 1.68827\n",
      "Early stopping, best iteration is:\n",
      "[473]\ttrain's rmse: 1.49201\tvalid's rmse: 1.68798\n",
      "    8 | 00m15s |   -1.68798 |              1.0008 |      80.5719 | \n",
      "Training until validation scores don't improve for 100 rounds.\n",
      "[100]\ttrain's rmse: 1.66987\tvalid's rmse: 1.77972\n",
      "[200]\ttrain's rmse: 1.59079\tvalid's rmse: 1.70807\n",
      "[300]\ttrain's rmse: 1.55509\tvalid's rmse: 1.6926\n",
      "[400]\ttrain's rmse: 1.53189\tvalid's rmse: 1.68842\n",
      "[500]\ttrain's rmse: 1.51441\tvalid's rmse: 1.68814\n",
      "Early stopping, best iteration is:\n",
      "[465]\ttrain's rmse: 1.52\tvalid's rmse: 1.68795\n",
      "    9 | 00m15s |   -1.68795 |             14.9649 |      60.0344 | \n",
      "Training until validation scores don't improve for 100 rounds.\n",
      "[100]\ttrain's rmse: 1.66515\tvalid's rmse: 1.777\n",
      "[200]\ttrain's rmse: 1.58366\tvalid's rmse: 1.70523\n",
      "[300]\ttrain's rmse: 1.54608\tvalid's rmse: 1.69095\n",
      "[400]\ttrain's rmse: 1.52051\tvalid's rmse: 1.68729\n",
      "[500]\ttrain's rmse: 1.50134\tvalid's rmse: 1.68697\n",
      "Early stopping, best iteration is:\n",
      "[467]\ttrain's rmse: 1.50695\tvalid's rmse: 1.6867\n",
      "   10 | 00m15s | \u001b[35m  -1.68670\u001b[0m | \u001b[32m             6.8923\u001b[0m | \u001b[32m     69.2758\u001b[0m | \n"
     ]
    },
    {
     "name": "stderr",
     "output_type": "stream",
     "text": [
      "C:\\Users\\LITO7\\AppData\\Local\\Continuum\\anaconda3\\lib\\site-packages\\sklearn\\gaussian_process\\gpr.py:457: UserWarning: fmin_l_bfgs_b terminated abnormally with the  state: {'grad': array([-0.00055955]), 'task': b'ABNORMAL_TERMINATION_IN_LNSRCH', 'funcalls': 48, 'nit': 4, 'warnflag': 2}\n",
      "  \" state: %s\" % convergence_dict)\n"
     ]
    },
    {
     "name": "stdout",
     "output_type": "stream",
     "text": [
      "Training until validation scores don't improve for 100 rounds.\n",
      "[100]\ttrain's rmse: 1.66591\tvalid's rmse: 1.77692\n",
      "[200]\ttrain's rmse: 1.58484\tvalid's rmse: 1.70689\n",
      "[300]\ttrain's rmse: 1.54786\tvalid's rmse: 1.69189\n",
      "[400]\ttrain's rmse: 1.52252\tvalid's rmse: 1.68801\n",
      "[500]\ttrain's rmse: 1.50378\tvalid's rmse: 1.68729\n",
      "Early stopping, best iteration is:\n",
      "[491]\ttrain's rmse: 1.5052\tvalid's rmse: 1.68721\n",
      "   11 | 00m15s |   -1.68721 |              4.5380 |      67.6692 | \n"
     ]
    },
    {
     "name": "stderr",
     "output_type": "stream",
     "text": [
      "C:\\Users\\LITO7\\AppData\\Local\\Continuum\\anaconda3\\lib\\site-packages\\sklearn\\gaussian_process\\gpr.py:457: UserWarning: fmin_l_bfgs_b terminated abnormally with the  state: {'grad': array([-5.46986848e-05]), 'task': b'ABNORMAL_TERMINATION_IN_LNSRCH', 'funcalls': 53, 'nit': 4, 'warnflag': 2}\n",
      "  \" state: %s\" % convergence_dict)\n",
      "C:\\Users\\LITO7\\AppData\\Local\\Continuum\\anaconda3\\lib\\site-packages\\sklearn\\gaussian_process\\gpr.py:457: UserWarning: fmin_l_bfgs_b terminated abnormally with the  state: {'grad': array([-0.00141434]), 'task': b'ABNORMAL_TERMINATION_IN_LNSRCH', 'funcalls': 47, 'nit': 2, 'warnflag': 2}\n",
      "  \" state: %s\" % convergence_dict)\n"
     ]
    },
    {
     "name": "stdout",
     "output_type": "stream",
     "text": [
      "Training until validation scores don't improve for 100 rounds.\n",
      "[100]\ttrain's rmse: 1.64378\tvalid's rmse: 1.76753\n",
      "[200]\ttrain's rmse: 1.55018\tvalid's rmse: 1.70458\n",
      "[300]\ttrain's rmse: 1.5025\tvalid's rmse: 1.69405\n",
      "[400]\ttrain's rmse: 1.46779\tvalid's rmse: 1.69275\n",
      "[500]\ttrain's rmse: 1.4412\tvalid's rmse: 1.69307\n",
      "Early stopping, best iteration is:\n",
      "[457]\ttrain's rmse: 1.45155\tvalid's rmse: 1.69259\n",
      "   12 | 00m15s |   -1.69259 |              1.1025 |     119.8613 | \n",
      "Training until validation scores don't improve for 100 rounds.\n",
      "[100]\ttrain's rmse: 1.6702\tvalid's rmse: 1.78037\n",
      "[200]\ttrain's rmse: 1.59174\tvalid's rmse: 1.70947\n",
      "[300]\ttrain's rmse: 1.55686\tvalid's rmse: 1.69305\n",
      "[400]\ttrain's rmse: 1.53438\tvalid's rmse: 1.68932\n",
      "[500]\ttrain's rmse: 1.51782\tvalid's rmse: 1.6887\n",
      "Early stopping, best iteration is:\n",
      "[485]\ttrain's rmse: 1.52005\tvalid's rmse: 1.68866\n",
      "   13 | 00m15s |   -1.68866 |             49.8010 |      60.0638 | \n",
      "Training until validation scores don't improve for 100 rounds.\n",
      "[100]\ttrain's rmse: 1.64496\tvalid's rmse: 1.77059\n",
      "[200]\ttrain's rmse: 1.55333\tvalid's rmse: 1.70452\n",
      "[300]\ttrain's rmse: 1.50869\tvalid's rmse: 1.69329\n",
      "[400]\ttrain's rmse: 1.47655\tvalid's rmse: 1.69192\n",
      "Early stopping, best iteration is:\n",
      "[398]\ttrain's rmse: 1.47713\tvalid's rmse: 1.69189\n",
      "   14 | 00m15s |   -1.69189 |             27.8851 |     119.9881 | \n"
     ]
    },
    {
     "name": "stderr",
     "output_type": "stream",
     "text": [
      "C:\\Users\\LITO7\\AppData\\Local\\Continuum\\anaconda3\\lib\\site-packages\\sklearn\\gaussian_process\\gpr.py:457: UserWarning: fmin_l_bfgs_b terminated abnormally with the  state: {'grad': array([-2.27918736e-05]), 'task': b'ABNORMAL_TERMINATION_IN_LNSRCH', 'funcalls': 53, 'nit': 4, 'warnflag': 2}\n",
      "  \" state: %s\" % convergence_dict)\n"
     ]
    },
    {
     "name": "stdout",
     "output_type": "stream",
     "text": [
      "Training until validation scores don't improve for 100 rounds.\n",
      "[100]\ttrain's rmse: 1.66585\tvalid's rmse: 1.77737\n",
      "[200]\ttrain's rmse: 1.58545\tvalid's rmse: 1.70729\n",
      "[300]\ttrain's rmse: 1.54895\tvalid's rmse: 1.69265\n",
      "[400]\ttrain's rmse: 1.52472\tvalid's rmse: 1.68915\n",
      "[500]\ttrain's rmse: 1.50671\tvalid's rmse: 1.6884\n",
      "Early stopping, best iteration is:\n",
      "[488]\ttrain's rmse: 1.50858\tvalid's rmse: 1.68835\n",
      "   15 | 00m16s |   -1.68835 |             33.6658 |      68.6983 | \n"
     ]
    },
    {
     "name": "stderr",
     "output_type": "stream",
     "text": [
      "C:\\Users\\LITO7\\AppData\\Local\\Continuum\\anaconda3\\lib\\site-packages\\sklearn\\gaussian_process\\gpr.py:457: UserWarning: fmin_l_bfgs_b terminated abnormally with the  state: {'grad': array([-0.00153391]), 'task': b'ABNORMAL_TERMINATION_IN_LNSRCH', 'funcalls': 51, 'nit': 3, 'warnflag': 2}\n",
      "  \" state: %s\" % convergence_dict)\n"
     ]
    },
    {
     "name": "stdout",
     "output_type": "stream",
     "text": [
      "Training until validation scores don't improve for 100 rounds.\n",
      "[100]\ttrain's rmse: 1.66385\tvalid's rmse: 1.77601\n",
      "[200]\ttrain's rmse: 1.58216\tvalid's rmse: 1.70663\n",
      "[300]\ttrain's rmse: 1.54436\tvalid's rmse: 1.69249\n",
      "[400]\ttrain's rmse: 1.51879\tvalid's rmse: 1.68918\n",
      "[500]\ttrain's rmse: 1.49935\tvalid's rmse: 1.68886\n",
      "Early stopping, best iteration is:\n",
      "[450]\ttrain's rmse: 1.50864\tvalid's rmse: 1.6885\n",
      "   16 | 00m15s |   -1.68850 |             16.8308 |      72.0043 | \n"
     ]
    },
    {
     "name": "stderr",
     "output_type": "stream",
     "text": [
      "C:\\Users\\LITO7\\AppData\\Local\\Continuum\\anaconda3\\lib\\site-packages\\sklearn\\gaussian_process\\gpr.py:457: UserWarning: fmin_l_bfgs_b terminated abnormally with the  state: {'grad': array([-0.00127691]), 'task': b'ABNORMAL_TERMINATION_IN_LNSRCH', 'funcalls': 54, 'nit': 4, 'warnflag': 2}\n",
      "  \" state: %s\" % convergence_dict)\n",
      "C:\\Users\\LITO7\\AppData\\Local\\Continuum\\anaconda3\\lib\\site-packages\\sklearn\\gaussian_process\\gpr.py:457: UserWarning: fmin_l_bfgs_b terminated abnormally with the  state: {'grad': array([-0.00090889]), 'task': b'ABNORMAL_TERMINATION_IN_LNSRCH', 'funcalls': 51, 'nit': 5, 'warnflag': 2}\n",
      "  \" state: %s\" % convergence_dict)\n"
     ]
    },
    {
     "name": "stdout",
     "output_type": "stream",
     "text": [
      "Training until validation scores don't improve for 100 rounds.\n",
      "[100]\ttrain's rmse: 1.67\tvalid's rmse: 1.78\n",
      "[200]\ttrain's rmse: 1.59135\tvalid's rmse: 1.70883\n",
      "[300]\ttrain's rmse: 1.55636\tvalid's rmse: 1.69285\n",
      "[400]\ttrain's rmse: 1.53378\tvalid's rmse: 1.68885\n",
      "[500]\ttrain's rmse: 1.51706\tvalid's rmse: 1.68838\n",
      "Early stopping, best iteration is:\n",
      "[478]\ttrain's rmse: 1.52028\tvalid's rmse: 1.68824\n",
      "   17 | 00m16s |   -1.68824 |             37.4379 |      60.0028 | \n"
     ]
    },
    {
     "name": "stderr",
     "output_type": "stream",
     "text": [
      "C:\\Users\\LITO7\\AppData\\Local\\Continuum\\anaconda3\\lib\\site-packages\\sklearn\\gaussian_process\\gpr.py:457: UserWarning: fmin_l_bfgs_b terminated abnormally with the  state: {'grad': array([-2.45589763e-05]), 'task': b'ABNORMAL_TERMINATION_IN_LNSRCH', 'funcalls': 59, 'nit': 5, 'warnflag': 2}\n",
      "  \" state: %s\" % convergence_dict)\n",
      "C:\\Users\\LITO7\\AppData\\Local\\Continuum\\anaconda3\\lib\\site-packages\\sklearn\\gaussian_process\\gpr.py:457: UserWarning: fmin_l_bfgs_b terminated abnormally with the  state: {'grad': array([-4.00254503e-05]), 'task': b'ABNORMAL_TERMINATION_IN_LNSRCH', 'funcalls': 53, 'nit': 4, 'warnflag': 2}\n",
      "  \" state: %s\" % convergence_dict)\n",
      "C:\\Users\\LITO7\\AppData\\Local\\Continuum\\anaconda3\\lib\\site-packages\\sklearn\\gaussian_process\\gpr.py:457: UserWarning: fmin_l_bfgs_b terminated abnormally with the  state: {'grad': array([0.00086677]), 'task': b'ABNORMAL_TERMINATION_IN_LNSRCH', 'funcalls': 56, 'nit': 5, 'warnflag': 2}\n",
      "  \" state: %s\" % convergence_dict)\n"
     ]
    },
    {
     "name": "stdout",
     "output_type": "stream",
     "text": [
      "Training until validation scores don't improve for 100 rounds.\n",
      "[100]\ttrain's rmse: 1.652\tvalid's rmse: 1.77111\n",
      "[200]\ttrain's rmse: 1.56336\tvalid's rmse: 1.70376\n",
      "[300]\ttrain's rmse: 1.51953\tvalid's rmse: 1.69146\n",
      "[400]\ttrain's rmse: 1.48841\tvalid's rmse: 1.68856\n",
      "[500]\ttrain's rmse: 1.46459\tvalid's rmse: 1.68829\n",
      "Early stopping, best iteration is:\n",
      "[465]\ttrain's rmse: 1.47181\tvalid's rmse: 1.68762\n",
      "   18 | 00m17s |   -1.68762 |              2.4436 |      98.4496 | \n"
     ]
    },
    {
     "name": "stderr",
     "output_type": "stream",
     "text": [
      "C:\\Users\\LITO7\\AppData\\Local\\Continuum\\anaconda3\\lib\\site-packages\\sklearn\\gaussian_process\\gpr.py:457: UserWarning: fmin_l_bfgs_b terminated abnormally with the  state: {'grad': array([-0.00020873]), 'task': b'ABNORMAL_TERMINATION_IN_LNSRCH', 'funcalls': 60, 'nit': 7, 'warnflag': 2}\n",
      "  \" state: %s\" % convergence_dict)\n"
     ]
    },
    {
     "name": "stdout",
     "output_type": "stream",
     "text": [
      "Training until validation scores don't improve for 100 rounds.\n",
      "[100]\ttrain's rmse: 1.66478\tvalid's rmse: 1.77763\n",
      "[200]\ttrain's rmse: 1.58357\tvalid's rmse: 1.70695\n",
      "[300]\ttrain's rmse: 1.54717\tvalid's rmse: 1.69277\n",
      "[400]\ttrain's rmse: 1.52294\tvalid's rmse: 1.68896\n",
      "[500]\ttrain's rmse: 1.50516\tvalid's rmse: 1.68854\n",
      "Early stopping, best iteration is:\n",
      "[476]\ttrain's rmse: 1.50894\tvalid's rmse: 1.68839\n",
      "   19 | 00m17s |   -1.68839 |             46.4113 |      71.9542 | \n"
     ]
    },
    {
     "name": "stderr",
     "output_type": "stream",
     "text": [
      "C:\\Users\\LITO7\\AppData\\Local\\Continuum\\anaconda3\\lib\\site-packages\\sklearn\\gaussian_process\\gpr.py:457: UserWarning: fmin_l_bfgs_b terminated abnormally with the  state: {'grad': array([-6.6102948e-05]), 'task': b'ABNORMAL_TERMINATION_IN_LNSRCH', 'funcalls': 56, 'nit': 6, 'warnflag': 2}\n",
      "  \" state: %s\" % convergence_dict)\n"
     ]
    },
    {
     "name": "stdout",
     "output_type": "stream",
     "text": [
      "Training until validation scores don't improve for 100 rounds.\n",
      "[100]\ttrain's rmse: 1.65642\tvalid's rmse: 1.77217\n",
      "[200]\ttrain's rmse: 1.57055\tvalid's rmse: 1.70443\n",
      "[300]\ttrain's rmse: 1.52889\tvalid's rmse: 1.69124\n",
      "[400]\ttrain's rmse: 1.50015\tvalid's rmse: 1.68845\n",
      "[500]\ttrain's rmse: 1.478\tvalid's rmse: 1.6879\n",
      "Early stopping, best iteration is:\n",
      "[463]\ttrain's rmse: 1.48525\tvalid's rmse: 1.6877\n",
      "   20 | 00m16s |   -1.68770 |              8.0120 |      88.6730 | \n"
     ]
    },
    {
     "name": "stderr",
     "output_type": "stream",
     "text": [
      "C:\\Users\\LITO7\\AppData\\Local\\Continuum\\anaconda3\\lib\\site-packages\\sklearn\\gaussian_process\\gpr.py:457: UserWarning: fmin_l_bfgs_b terminated abnormally with the  state: {'grad': array([-0.00326517]), 'task': b'ABNORMAL_TERMINATION_IN_LNSRCH', 'funcalls': 57, 'nit': 5, 'warnflag': 2}\n",
      "  \" state: %s\" % convergence_dict)\n",
      "C:\\Users\\LITO7\\AppData\\Local\\Continuum\\anaconda3\\lib\\site-packages\\sklearn\\gaussian_process\\gpr.py:457: UserWarning: fmin_l_bfgs_b terminated abnormally with the  state: {'grad': array([-3.01419714e-05]), 'task': b'ABNORMAL_TERMINATION_IN_LNSRCH', 'funcalls': 52, 'nit': 3, 'warnflag': 2}\n",
      "  \" state: %s\" % convergence_dict)\n"
     ]
    },
    {
     "name": "stdout",
     "output_type": "stream",
     "text": [
      "Training until validation scores don't improve for 100 rounds.\n",
      "[100]\ttrain's rmse: 1.66974\tvalid's rmse: 1.77945\n",
      "[200]\ttrain's rmse: 1.59057\tvalid's rmse: 1.70686\n",
      "[300]\ttrain's rmse: 1.55491\tvalid's rmse: 1.69176\n",
      "[400]\ttrain's rmse: 1.5312\tvalid's rmse: 1.6876\n",
      "[500]\ttrain's rmse: 1.51382\tvalid's rmse: 1.68692\n",
      "Early stopping, best iteration is:\n",
      "[487]\ttrain's rmse: 1.51578\tvalid's rmse: 1.68677\n",
      "   21 | 00m15s |   -1.68677 |              6.5616 |      60.0067 | \n"
     ]
    },
    {
     "name": "stderr",
     "output_type": "stream",
     "text": [
      "C:\\Users\\LITO7\\AppData\\Local\\Continuum\\anaconda3\\lib\\site-packages\\sklearn\\gaussian_process\\gpr.py:457: UserWarning: fmin_l_bfgs_b terminated abnormally with the  state: {'grad': array([-0.0001801]), 'task': b'ABNORMAL_TERMINATION_IN_LNSRCH', 'funcalls': 55, 'nit': 4, 'warnflag': 2}\n",
      "  \" state: %s\" % convergence_dict)\n",
      "C:\\Users\\LITO7\\AppData\\Local\\Continuum\\anaconda3\\lib\\site-packages\\sklearn\\gaussian_process\\gpr.py:457: UserWarning: fmin_l_bfgs_b terminated abnormally with the  state: {'grad': array([-2.06772238e-05]), 'task': b'ABNORMAL_TERMINATION_IN_LNSRCH', 'funcalls': 53, 'nit': 4, 'warnflag': 2}\n",
      "  \" state: %s\" % convergence_dict)\n",
      "C:\\Users\\LITO7\\AppData\\Local\\Continuum\\anaconda3\\lib\\site-packages\\sklearn\\gaussian_process\\gpr.py:457: UserWarning: fmin_l_bfgs_b terminated abnormally with the  state: {'grad': array([-9.72556882e-05]), 'task': b'ABNORMAL_TERMINATION_IN_LNSRCH', 'funcalls': 54, 'nit': 5, 'warnflag': 2}\n",
      "  \" state: %s\" % convergence_dict)\n",
      "C:\\Users\\LITO7\\AppData\\Local\\Continuum\\anaconda3\\lib\\site-packages\\sklearn\\gaussian_process\\gpr.py:457: UserWarning: fmin_l_bfgs_b terminated abnormally with the  state: {'grad': array([-2.14469619e-05]), 'task': b'ABNORMAL_TERMINATION_IN_LNSRCH', 'funcalls': 63, 'nit': 5, 'warnflag': 2}\n",
      "  \" state: %s\" % convergence_dict)\n"
     ]
    },
    {
     "name": "stdout",
     "output_type": "stream",
     "text": [
      "Training until validation scores don't improve for 100 rounds.\n",
      "[100]\ttrain's rmse: 1.66194\tvalid's rmse: 1.77587\n",
      "[200]\ttrain's rmse: 1.57886\tvalid's rmse: 1.70574\n",
      "[300]\ttrain's rmse: 1.53977\tvalid's rmse: 1.69152\n",
      "[400]\ttrain's rmse: 1.51303\tvalid's rmse: 1.68738\n",
      "[500]\ttrain's rmse: 1.49288\tvalid's rmse: 1.68702\n",
      "Early stopping, best iteration is:\n",
      "[460]\ttrain's rmse: 1.50014\tvalid's rmse: 1.68676\n",
      "   22 | 00m16s |   -1.68676 |              8.1273 |      76.3628 | \n"
     ]
    },
    {
     "name": "stderr",
     "output_type": "stream",
     "text": [
      "C:\\Users\\LITO7\\AppData\\Local\\Continuum\\anaconda3\\lib\\site-packages\\sklearn\\gaussian_process\\gpr.py:457: UserWarning: fmin_l_bfgs_b terminated abnormally with the  state: {'grad': array([-0.00071005]), 'task': b'ABNORMAL_TERMINATION_IN_LNSRCH', 'funcalls': 56, 'nit': 5, 'warnflag': 2}\n",
      "  \" state: %s\" % convergence_dict)\n"
     ]
    },
    {
     "name": "stdout",
     "output_type": "stream",
     "text": [
      "Training until validation scores don't improve for 100 rounds.\n",
      "[100]\ttrain's rmse: 1.66092\tvalid's rmse: 1.77551\n",
      "[200]\ttrain's rmse: 1.57794\tvalid's rmse: 1.70561\n",
      "[300]\ttrain's rmse: 1.53999\tvalid's rmse: 1.69162\n",
      "[400]\ttrain's rmse: 1.51414\tvalid's rmse: 1.68876\n",
      "[500]\ttrain's rmse: 1.49492\tvalid's rmse: 1.689\n",
      "Early stopping, best iteration is:\n",
      "[448]\ttrain's rmse: 1.50408\tvalid's rmse: 1.68859\n",
      "   23 | 00m16s |   -1.68859 |             38.3906 |      79.4678 | \n"
     ]
    },
    {
     "name": "stderr",
     "output_type": "stream",
     "text": [
      "C:\\Users\\LITO7\\AppData\\Local\\Continuum\\anaconda3\\lib\\site-packages\\sklearn\\gaussian_process\\gpr.py:457: UserWarning: fmin_l_bfgs_b terminated abnormally with the  state: {'grad': array([0.00145926]), 'task': b'ABNORMAL_TERMINATION_IN_LNSRCH', 'funcalls': 57, 'nit': 5, 'warnflag': 2}\n",
      "  \" state: %s\" % convergence_dict)\n"
     ]
    },
    {
     "name": "stdout",
     "output_type": "stream",
     "text": [
      "Training until validation scores don't improve for 100 rounds.\n",
      "[100]\ttrain's rmse: 1.66377\tvalid's rmse: 1.77575\n",
      "[200]\ttrain's rmse: 1.58157\tvalid's rmse: 1.70532\n",
      "[300]\ttrain's rmse: 1.54336\tvalid's rmse: 1.69109\n",
      "[400]\ttrain's rmse: 1.51742\tvalid's rmse: 1.68734\n",
      "[500]\ttrain's rmse: 1.49787\tvalid's rmse: 1.68678\n",
      "Early stopping, best iteration is:\n",
      "[486]\ttrain's rmse: 1.50025\tvalid's rmse: 1.68658\n",
      "   24 | 00m16s | \u001b[35m  -1.68658\u001b[0m | \u001b[32m             8.1029\u001b[0m | \u001b[32m     72.4275\u001b[0m | \n",
      "Training until validation scores don't improve for 100 rounds.\n",
      "[100]\ttrain's rmse: 1.6633\tvalid's rmse: 1.77525\n",
      "[200]\ttrain's rmse: 1.58099\tvalid's rmse: 1.70606\n",
      "[300]\ttrain's rmse: 1.54256\tvalid's rmse: 1.69091\n",
      "[400]\ttrain's rmse: 1.51642\tvalid's rmse: 1.6878\n",
      "[500]\ttrain's rmse: 1.49646\tvalid's rmse: 1.68693\n",
      "Early stopping, best iteration is:\n",
      "[479]\ttrain's rmse: 1.5002\tvalid's rmse: 1.68674\n",
      "   25 | 00m15s |   -1.68674 |              8.9546 |      73.3069 | \n"
     ]
    },
    {
     "name": "stderr",
     "output_type": "stream",
     "text": [
      "C:\\Users\\LITO7\\AppData\\Local\\Continuum\\anaconda3\\lib\\site-packages\\sklearn\\gaussian_process\\gpr.py:457: UserWarning: fmin_l_bfgs_b terminated abnormally with the  state: {'grad': array([-1.70366839e-05]), 'task': b'ABNORMAL_TERMINATION_IN_LNSRCH', 'funcalls': 49, 'nit': 4, 'warnflag': 2}\n",
      "  \" state: %s\" % convergence_dict)\n",
      "C:\\Users\\LITO7\\AppData\\Local\\Continuum\\anaconda3\\lib\\site-packages\\sklearn\\gaussian_process\\gpr.py:457: UserWarning: fmin_l_bfgs_b terminated abnormally with the  state: {'grad': array([-0.00042068]), 'task': b'ABNORMAL_TERMINATION_IN_LNSRCH', 'funcalls': 68, 'nit': 5, 'warnflag': 2}\n",
      "  \" state: %s\" % convergence_dict)\n"
     ]
    },
    {
     "name": "stdout",
     "output_type": "stream",
     "text": [
      "Training until validation scores don't improve for 100 rounds.\n",
      "[100]\ttrain's rmse: 1.66377\tvalid's rmse: 1.77621\n",
      "[200]\ttrain's rmse: 1.58167\tvalid's rmse: 1.70578\n",
      "[300]\ttrain's rmse: 1.5434\tvalid's rmse: 1.69109\n",
      "[400]\ttrain's rmse: 1.51744\tvalid's rmse: 1.68748\n",
      "[500]\ttrain's rmse: 1.49785\tvalid's rmse: 1.68684\n",
      "Early stopping, best iteration is:\n",
      "[480]\ttrain's rmse: 1.50114\tvalid's rmse: 1.68672\n",
      "   26 | 00m15s |   -1.68672 |              7.8271 |      72.5691 | \n"
     ]
    },
    {
     "name": "stderr",
     "output_type": "stream",
     "text": [
      "C:\\Users\\LITO7\\AppData\\Local\\Continuum\\anaconda3\\lib\\site-packages\\sklearn\\gaussian_process\\gpr.py:457: UserWarning: fmin_l_bfgs_b terminated abnormally with the  state: {'grad': array([-9.63943103e-05]), 'task': b'ABNORMAL_TERMINATION_IN_LNSRCH', 'funcalls': 79, 'nit': 9, 'warnflag': 2}\n",
      "  \" state: %s\" % convergence_dict)\n",
      "C:\\Users\\LITO7\\AppData\\Local\\Continuum\\anaconda3\\lib\\site-packages\\sklearn\\gaussian_process\\gpr.py:457: UserWarning: fmin_l_bfgs_b terminated abnormally with the  state: {'grad': array([-0.00051442]), 'task': b'ABNORMAL_TERMINATION_IN_LNSRCH', 'funcalls': 59, 'nit': 5, 'warnflag': 2}\n",
      "  \" state: %s\" % convergence_dict)\n",
      "C:\\Users\\LITO7\\AppData\\Local\\Continuum\\anaconda3\\lib\\site-packages\\sklearn\\gaussian_process\\gpr.py:457: UserWarning: fmin_l_bfgs_b terminated abnormally with the  state: {'grad': array([-5.11237276e-05]), 'task': b'ABNORMAL_TERMINATION_IN_LNSRCH', 'funcalls': 65, 'nit': 9, 'warnflag': 2}\n",
      "  \" state: %s\" % convergence_dict)\n",
      "C:\\Users\\LITO7\\AppData\\Local\\Continuum\\anaconda3\\lib\\site-packages\\sklearn\\gaussian_process\\gpr.py:457: UserWarning: fmin_l_bfgs_b terminated abnormally with the  state: {'grad': array([-8.47039146e-05]), 'task': b'ABNORMAL_TERMINATION_IN_LNSRCH', 'funcalls': 56, 'nit': 7, 'warnflag': 2}\n",
      "  \" state: %s\" % convergence_dict)\n",
      "C:\\Users\\LITO7\\AppData\\Local\\Continuum\\anaconda3\\lib\\site-packages\\sklearn\\gaussian_process\\gpr.py:457: UserWarning: fmin_l_bfgs_b terminated abnormally with the  state: {'grad': array([-8.1076143e-05]), 'task': b'ABNORMAL_TERMINATION_IN_LNSRCH', 'funcalls': 67, 'nit': 6, 'warnflag': 2}\n",
      "  \" state: %s\" % convergence_dict)\n"
     ]
    },
    {
     "name": "stdout",
     "output_type": "stream",
     "text": [
      "Training until validation scores don't improve for 100 rounds.\n",
      "[100]\ttrain's rmse: 1.64399\tvalid's rmse: 1.76982\n",
      "[200]\ttrain's rmse: 1.5516\tvalid's rmse: 1.70503\n",
      "[300]\ttrain's rmse: 1.50518\tvalid's rmse: 1.69359\n",
      "[400]\ttrain's rmse: 1.47191\tvalid's rmse: 1.69298\n",
      "Early stopping, best iteration is:\n",
      "[380]\ttrain's rmse: 1.47826\tvalid's rmse: 1.69275\n",
      "   27 | 00m15s |   -1.69275 |             13.0003 |     119.9863 | \n"
     ]
    },
    {
     "name": "stderr",
     "output_type": "stream",
     "text": [
      "C:\\Users\\LITO7\\AppData\\Local\\Continuum\\anaconda3\\lib\\site-packages\\sklearn\\gaussian_process\\gpr.py:457: UserWarning: fmin_l_bfgs_b terminated abnormally with the  state: {'grad': array([0.00771324]), 'task': b'ABNORMAL_TERMINATION_IN_LNSRCH', 'funcalls': 54, 'nit': 5, 'warnflag': 2}\n",
      "  \" state: %s\" % convergence_dict)\n",
      "C:\\Users\\LITO7\\AppData\\Local\\Continuum\\anaconda3\\lib\\site-packages\\sklearn\\gaussian_process\\gpr.py:457: UserWarning: fmin_l_bfgs_b terminated abnormally with the  state: {'grad': array([-9.67616215e-05]), 'task': b'ABNORMAL_TERMINATION_IN_LNSRCH', 'funcalls': 68, 'nit': 5, 'warnflag': 2}\n",
      "  \" state: %s\" % convergence_dict)\n",
      "C:\\Users\\LITO7\\AppData\\Local\\Continuum\\anaconda3\\lib\\site-packages\\sklearn\\gaussian_process\\gpr.py:457: UserWarning: fmin_l_bfgs_b terminated abnormally with the  state: {'grad': array([-6.75944611e-05]), 'task': b'ABNORMAL_TERMINATION_IN_LNSRCH', 'funcalls': 62, 'nit': 6, 'warnflag': 2}\n",
      "  \" state: %s\" % convergence_dict)\n",
      "C:\\Users\\LITO7\\AppData\\Local\\Continuum\\anaconda3\\lib\\site-packages\\sklearn\\gaussian_process\\gpr.py:457: UserWarning: fmin_l_bfgs_b terminated abnormally with the  state: {'grad': array([0.00047666]), 'task': b'ABNORMAL_TERMINATION_IN_LNSRCH', 'funcalls': 54, 'nit': 6, 'warnflag': 2}\n",
      "  \" state: %s\" % convergence_dict)\n"
     ]
    },
    {
     "name": "stdout",
     "output_type": "stream",
     "text": [
      "Training until validation scores don't improve for 100 rounds.\n",
      "[100]\ttrain's rmse: 1.64987\tvalid's rmse: 1.77095\n",
      "[200]\ttrain's rmse: 1.56223\tvalid's rmse: 1.70509\n",
      "[300]\ttrain's rmse: 1.52102\tvalid's rmse: 1.6937\n",
      "[400]\ttrain's rmse: 1.49184\tvalid's rmse: 1.69209\n",
      "Early stopping, best iteration is:\n",
      "[376]\ttrain's rmse: 1.49873\tvalid's rmse: 1.69198\n",
      "   28 | 00m15s |   -1.69198 |             49.9708 |     107.9665 | \n"
     ]
    },
    {
     "name": "stderr",
     "output_type": "stream",
     "text": [
      "C:\\Users\\LITO7\\AppData\\Local\\Continuum\\anaconda3\\lib\\site-packages\\sklearn\\gaussian_process\\gpr.py:457: UserWarning: fmin_l_bfgs_b terminated abnormally with the  state: {'grad': array([-0.00065572]), 'task': b'ABNORMAL_TERMINATION_IN_LNSRCH', 'funcalls': 76, 'nit': 6, 'warnflag': 2}\n",
      "  \" state: %s\" % convergence_dict)\n",
      "C:\\Users\\LITO7\\AppData\\Local\\Continuum\\anaconda3\\lib\\site-packages\\sklearn\\gaussian_process\\gpr.py:457: UserWarning: fmin_l_bfgs_b terminated abnormally with the  state: {'grad': array([0.00325303]), 'task': b'ABNORMAL_TERMINATION_IN_LNSRCH', 'funcalls': 101, 'nit': 5, 'warnflag': 2}\n",
      "  \" state: %s\" % convergence_dict)\n",
      "C:\\Users\\LITO7\\AppData\\Local\\Continuum\\anaconda3\\lib\\site-packages\\sklearn\\gaussian_process\\gpr.py:457: UserWarning: fmin_l_bfgs_b terminated abnormally with the  state: {'grad': array([0.04610964]), 'task': b'ABNORMAL_TERMINATION_IN_LNSRCH', 'funcalls': 52, 'nit': 5, 'warnflag': 2}\n",
      "  \" state: %s\" % convergence_dict)\n",
      "C:\\Users\\LITO7\\AppData\\Local\\Continuum\\anaconda3\\lib\\site-packages\\sklearn\\gaussian_process\\gpr.py:457: UserWarning: fmin_l_bfgs_b terminated abnormally with the  state: {'grad': array([0.00740319]), 'task': b'ABNORMAL_TERMINATION_IN_LNSRCH', 'funcalls': 63, 'nit': 4, 'warnflag': 2}\n",
      "  \" state: %s\" % convergence_dict)\n",
      "C:\\Users\\LITO7\\AppData\\Local\\Continuum\\anaconda3\\lib\\site-packages\\sklearn\\gaussian_process\\gpr.py:457: UserWarning: fmin_l_bfgs_b terminated abnormally with the  state: {'grad': array([-0.02098356]), 'task': b'ABNORMAL_TERMINATION_IN_LNSRCH', 'funcalls': 66, 'nit': 4, 'warnflag': 2}\n",
      "  \" state: %s\" % convergence_dict)\n",
      "C:\\Users\\LITO7\\AppData\\Local\\Continuum\\anaconda3\\lib\\site-packages\\sklearn\\gaussian_process\\gpr.py:457: UserWarning: fmin_l_bfgs_b terminated abnormally with the  state: {'grad': array([-5.32339909e-05]), 'task': b'ABNORMAL_TERMINATION_IN_LNSRCH', 'funcalls': 62, 'nit': 4, 'warnflag': 2}\n",
      "  \" state: %s\" % convergence_dict)\n"
     ]
    },
    {
     "name": "stdout",
     "output_type": "stream",
     "text": [
      "Training until validation scores don't improve for 100 rounds.\n",
      "[100]\ttrain's rmse: 1.64749\tvalid's rmse: 1.76863\n",
      "[200]\ttrain's rmse: 1.55626\tvalid's rmse: 1.70339\n",
      "[300]\ttrain's rmse: 1.51041\tvalid's rmse: 1.69275\n",
      "[400]\ttrain's rmse: 1.4776\tvalid's rmse: 1.69079\n",
      "[500]\ttrain's rmse: 1.45243\tvalid's rmse: 1.69163\n",
      "Early stopping, best iteration is:\n",
      "[410]\ttrain's rmse: 1.4747\tvalid's rmse: 1.69047\n",
      "   29 | 00m15s |   -1.69047 |              1.0342 |     109.2838 | \n"
     ]
    },
    {
     "name": "stderr",
     "output_type": "stream",
     "text": [
      "C:\\Users\\LITO7\\AppData\\Local\\Continuum\\anaconda3\\lib\\site-packages\\sklearn\\gaussian_process\\gpr.py:457: UserWarning: fmin_l_bfgs_b terminated abnormally with the  state: {'grad': array([-0.00155683]), 'task': b'ABNORMAL_TERMINATION_IN_LNSRCH', 'funcalls': 68, 'nit': 6, 'warnflag': 2}\n",
      "  \" state: %s\" % convergence_dict)\n",
      "C:\\Users\\LITO7\\AppData\\Local\\Continuum\\anaconda3\\lib\\site-packages\\sklearn\\gaussian_process\\gpr.py:457: UserWarning: fmin_l_bfgs_b terminated abnormally with the  state: {'grad': array([-2.61496753e-05]), 'task': b'ABNORMAL_TERMINATION_IN_LNSRCH', 'funcalls': 70, 'nit': 7, 'warnflag': 2}\n",
      "  \" state: %s\" % convergence_dict)\n",
      "C:\\Users\\LITO7\\AppData\\Local\\Continuum\\anaconda3\\lib\\site-packages\\sklearn\\gaussian_process\\gpr.py:457: UserWarning: fmin_l_bfgs_b terminated abnormally with the  state: {'grad': array([-2.06818804e-05]), 'task': b'ABNORMAL_TERMINATION_IN_LNSRCH', 'funcalls': 50, 'nit': 5, 'warnflag': 2}\n",
      "  \" state: %s\" % convergence_dict)\n",
      "C:\\Users\\LITO7\\AppData\\Local\\Continuum\\anaconda3\\lib\\site-packages\\sklearn\\gaussian_process\\gpr.py:457: UserWarning: fmin_l_bfgs_b terminated abnormally with the  state: {'grad': array([-2.73026526e-05]), 'task': b'ABNORMAL_TERMINATION_IN_LNSRCH', 'funcalls': 93, 'nit': 7, 'warnflag': 2}\n",
      "  \" state: %s\" % convergence_dict)\n",
      "C:\\Users\\LITO7\\AppData\\Local\\Continuum\\anaconda3\\lib\\site-packages\\sklearn\\gaussian_process\\gpr.py:457: UserWarning: fmin_l_bfgs_b terminated abnormally with the  state: {'grad': array([-0.00019834]), 'task': b'ABNORMAL_TERMINATION_IN_LNSRCH', 'funcalls': 104, 'nit': 6, 'warnflag': 2}\n",
      "  \" state: %s\" % convergence_dict)\n"
     ]
    },
    {
     "name": "stdout",
     "output_type": "stream",
     "text": [
      "Training until validation scores don't improve for 100 rounds.\n",
      "[100]\ttrain's rmse: 1.64759\tvalid's rmse: 1.77085\n",
      "[200]\ttrain's rmse: 1.55813\tvalid's rmse: 1.70496\n",
      "[300]\ttrain's rmse: 1.51508\tvalid's rmse: 1.69356\n",
      "[400]\ttrain's rmse: 1.4846\tvalid's rmse: 1.69204\n",
      "[500]\ttrain's rmse: 1.46144\tvalid's rmse: 1.69277\n",
      "Early stopping, best iteration is:\n",
      "[408]\ttrain's rmse: 1.4824\tvalid's rmse: 1.69197\n",
      "   30 | 00m15s |   -1.69197 |             39.6955 |     113.0633 | \n"
     ]
    },
    {
     "name": "stderr",
     "output_type": "stream",
     "text": [
      "C:\\Users\\LITO7\\AppData\\Local\\Continuum\\anaconda3\\lib\\site-packages\\sklearn\\gaussian_process\\gpr.py:457: UserWarning: fmin_l_bfgs_b terminated abnormally with the  state: {'grad': array([0.00077179]), 'task': b'ABNORMAL_TERMINATION_IN_LNSRCH', 'funcalls': 63, 'nit': 8, 'warnflag': 2}\n",
      "  \" state: %s\" % convergence_dict)\n",
      "C:\\Users\\LITO7\\AppData\\Local\\Continuum\\anaconda3\\lib\\site-packages\\sklearn\\gaussian_process\\gpr.py:457: UserWarning: fmin_l_bfgs_b terminated abnormally with the  state: {'grad': array([-8.89961926e-05]), 'task': b'ABNORMAL_TERMINATION_IN_LNSRCH', 'funcalls': 75, 'nit': 7, 'warnflag': 2}\n",
      "  \" state: %s\" % convergence_dict)\n",
      "C:\\Users\\LITO7\\AppData\\Local\\Continuum\\anaconda3\\lib\\site-packages\\sklearn\\gaussian_process\\gpr.py:457: UserWarning: fmin_l_bfgs_b terminated abnormally with the  state: {'grad': array([-9.20033012e-05]), 'task': b'ABNORMAL_TERMINATION_IN_LNSRCH', 'funcalls': 51, 'nit': 6, 'warnflag': 2}\n",
      "  \" state: %s\" % convergence_dict)\n",
      "C:\\Users\\LITO7\\AppData\\Local\\Continuum\\anaconda3\\lib\\site-packages\\sklearn\\gaussian_process\\gpr.py:457: UserWarning: fmin_l_bfgs_b terminated abnormally with the  state: {'grad': array([-1.76956381e-05]), 'task': b'ABNORMAL_TERMINATION_IN_LNSRCH', 'funcalls': 52, 'nit': 5, 'warnflag': 2}\n",
      "  \" state: %s\" % convergence_dict)\n",
      "C:\\Users\\LITO7\\AppData\\Local\\Continuum\\anaconda3\\lib\\site-packages\\sklearn\\gaussian_process\\gpr.py:457: UserWarning: fmin_l_bfgs_b terminated abnormally with the  state: {'grad': array([-0.00010954]), 'task': b'ABNORMAL_TERMINATION_IN_LNSRCH', 'funcalls': 62, 'nit': 4, 'warnflag': 2}\n",
      "  \" state: %s\" % convergence_dict)\n",
      "C:\\Users\\LITO7\\AppData\\Local\\Continuum\\anaconda3\\lib\\site-packages\\sklearn\\gaussian_process\\gpr.py:457: UserWarning: fmin_l_bfgs_b terminated abnormally with the  state: {'grad': array([-0.0094183]), 'task': b'ABNORMAL_TERMINATION_IN_LNSRCH', 'funcalls': 74, 'nit': 6, 'warnflag': 2}\n",
      "  \" state: %s\" % convergence_dict)\n",
      "C:\\Users\\LITO7\\AppData\\Local\\Continuum\\anaconda3\\lib\\site-packages\\sklearn\\gaussian_process\\gpr.py:457: UserWarning: fmin_l_bfgs_b terminated abnormally with the  state: {'grad': array([0.00709861]), 'task': b'ABNORMAL_TERMINATION_IN_LNSRCH', 'funcalls': 95, 'nit': 8, 'warnflag': 2}\n",
      "  \" state: %s\" % convergence_dict)\n",
      "C:\\Users\\LITO7\\AppData\\Local\\Continuum\\anaconda3\\lib\\site-packages\\sklearn\\gaussian_process\\gpr.py:457: UserWarning: fmin_l_bfgs_b terminated abnormally with the  state: {'grad': array([-8.03615297e-05]), 'task': b'ABNORMAL_TERMINATION_IN_LNSRCH', 'funcalls': 59, 'nit': 4, 'warnflag': 2}\n",
      "  \" state: %s\" % convergence_dict)\n"
     ]
    }
   ],
   "source": [
    "# Bayesian optimization\n",
    "def lgb_evaluate(min_child_samples,\n",
    "                 num_leaves):\n",
    "    params = {\n",
    "                \"objective\" : \"regression\",\n",
    "                \"metric\" : \"rmse\", \n",
    "                \"learning_rate\" : 0.01,\n",
    "                \"verbosity\" : -1\n",
    "                }\n",
    "    params['num_leaves'] = int(num_leaves)\n",
    "    params['min_child_samples'] = int(min_child_samples)\n",
    "\n",
    "\n",
    "    lgtrain = lgb.Dataset(training_X, label=training_y, categorical_feature = cat_cols)\n",
    "    lgval = lgb.Dataset(val_X, label=val_y)\n",
    "    model = lgb.train(params, lgtrain, 1000, valid_sets=[lgtrain, lgval], valid_names = ['train', 'valid'],\n",
    "                      early_stopping_rounds=100, verbose_eval=100)\n",
    "\n",
    "    return -model.best_score['valid']['rmse']\n",
    "\n",
    "lgbBO = BayesianOptimization(lgb_evaluate, {'num_leaves': (60, 120),\n",
    "                                        'min_child_samples': (1, 50)}, random_state=0)\n",
    "lgbBO.maximize(init_points=5, n_iter=25)"
   ]
  },
  {
   "cell_type": "code",
   "execution_count": 32,
   "metadata": {},
   "outputs": [
    {
     "data": {
      "text/plain": [
       "{'max_val': -1.6865785110066653,\n",
       " 'max_params': {'num_leaves': 72.42747635257527,\n",
       "  'min_child_samples': 8.10286321440708}}"
      ]
     },
     "execution_count": 32,
     "metadata": {},
     "output_type": "execute_result"
    }
   ],
   "source": [
    "lgbBO.res['max']"
   ]
  },
  {
   "cell_type": "code",
   "execution_count": 33,
   "metadata": {},
   "outputs": [
    {
     "name": "stderr",
     "output_type": "stream",
     "text": [
      "C:\\Users\\LITO7\\AppData\\Local\\Continuum\\anaconda3\\lib\\site-packages\\lightgbm\\basic.py:1040: UserWarning: Using categorical_feature in Dataset.\n",
      "  warnings.warn('Using categorical_feature in Dataset.')\n"
     ]
    }
   ],
   "source": [
    "params = {\n",
    "    \"objective\" : \"regression\",\n",
    "    \"metric\" : \"rmse\", \n",
    "    \"num_leaves\" : 72,\n",
    "    \"min_child_samples\" : 8,\n",
    "    \"learning_rate\" : 0.01,\n",
    "#    \"bagging_fraction\" : 0.7,\n",
    "#    \"feature_fraction\" : 0.5,\n",
    "#    \"bagging_frequency\" : 5,\n",
    "#    \"bagging_seed\" : 2018\n",
    "}\n",
    "\n",
    "# Train with training and validation set\n",
    "lgtrain = lgb.Dataset(train_df[cat_cols + num_cols], label=train_y, categorical_feature = cat_cols)\n",
    "model = lgb.train(params, lgtrain, \n",
    "                  500)"
   ]
  },
  {
   "cell_type": "code",
   "execution_count": 34,
   "metadata": {},
   "outputs": [],
   "source": [
    "pred_test = model.predict(test_X, num_iteration=model.best_iteration)\n"
   ]
  },
  {
   "cell_type": "code",
   "execution_count": 35,
   "metadata": {},
   "outputs": [
    {
     "name": "stdout",
     "output_type": "stream",
     "text": [
      "1.6154348039675284\n"
     ]
    }
   ],
   "source": [
    "pred_val = model.predict(val_X, num_iteration=model.best_iteration)\n",
    "\n",
    "from sklearn import metrics\n",
    "pred_val[pred_val<0] = 0\n",
    "val_pred_df = pd.DataFrame({\"fullVisitorId\":val_df[\"fullVisitorId\"].values})\n",
    "val_pred_df[\"transactionRevenue\"] = val_df[\"totals.transactionRevenue\"].values\n",
    "val_pred_df[\"PredictedRevenue\"] = np.expm1(pred_val)\n",
    "#print(np.sqrt(metrics.mean_squared_error(np.log1p(val_pred_df[\"transactionRevenue\"].values), np.log1p(val_pred_df[\"PredictedRevenue\"].values))))\n",
    "val_pred_df = val_pred_df.groupby(\"fullVisitorId\")[\"transactionRevenue\", \"PredictedRevenue\"].sum().reset_index()\n",
    "print(np.sqrt(metrics.mean_squared_error(np.log1p(val_pred_df[\"transactionRevenue\"].values), np.log1p(val_pred_df[\"PredictedRevenue\"].values))))"
   ]
  },
  {
   "cell_type": "code",
   "execution_count": 36,
   "metadata": {},
   "outputs": [],
   "source": [
    "sub_df = pd.DataFrame({\"fullVisitorId\":test_id})\n",
    "pred_test[pred_test<0] = 0\n",
    "sub_df[\"PredictedLogRevenue\"] = np.expm1(pred_test)\n",
    "sub_df = sub_df.groupby(\"fullVisitorId\")[\"PredictedLogRevenue\"].sum().reset_index()\n",
    "sub_df.columns = [\"fullVisitorId\", \"PredictedLogRevenue\"]\n",
    "sub_df[\"PredictedLogRevenue\"] = np.log1p(sub_df[\"PredictedLogRevenue\"])\n",
    "sub_df.to_csv(\"submission/baseline_lgb.csv\", index=False)"
   ]
  },
  {
   "cell_type": "code",
   "execution_count": 8,
   "metadata": {},
   "outputs": [],
   "source": [
    "import shap\n",
    "\n",
    "shap_X = val_X.sample(10000)\n",
    "explainer = shap.TreeExplainer(model)\n",
    "shap_values = explainer.shap_values(shap_X)"
   ]
  },
  {
   "cell_type": "code",
   "execution_count": 9,
   "metadata": {},
   "outputs": [
    {
     "data": {
      "image/png": "[encoded data removed]",
      "text/plain": [
       "<Figure size 576x684 with 2 Axes>"
      ]
     },
     "metadata": {},
     "output_type": "display_data"
    }
   ],
   "source": [
    "shap.summary_plot(shap_values, shap_X)"
   ]
  },
  {
   "cell_type": "code",
   "execution_count": 10,
   "metadata": {},
   "outputs": [
    {
     "data": {
      "image/png": "[encoded data removed]",
      "text/plain": [
       "<Figure size 540x360 with 2 Axes>"
      ]
     },
     "metadata": {},
     "output_type": "display_data"
    }
   ],
   "source": [
    "shap.dependence_plot(\"totals.pageviews\", shap_values, shap_X)"
   ]
  },
  {
   "cell_type": "code",
   "execution_count": 11,
   "metadata": {},
   "outputs": [
    {
     "data": {
      "image/png": "[encoded data removed]",
      "text/plain": [
       "<Figure size 540x360 with 2 Axes>"
      ]
     },
     "metadata": {},
     "output_type": "display_data"
    }
   ],
   "source": [
    "shap.dependence_plot(\"geoNetwork.country\", shap_values, shap_X)"
   ]
  }
 ],
 "metadata": {
  "kernelspec": {
   "display_name": "Python 3",
   "language": "python",
   "name": "python3"
  },
  "language_info": {
   "codemirror_mode": {
    "name": "ipython",
    "version": 3
   },
   "file_extension": ".py",
   "mimetype": "text/x-python",
   "name": "python",
   "nbconvert_exporter": "python",
   "pygments_lexer": "ipython3",
   "version": "3.6.5"
  }
 },
 "nbformat": 4,
 "nbformat_minor": 2
}
